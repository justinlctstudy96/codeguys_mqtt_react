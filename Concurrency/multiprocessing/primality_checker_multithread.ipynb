{
 "cells": [
  {
   "cell_type": "code",
   "execution_count": null,
   "metadata": {},
   "outputs": [],
   "source": [
    "def is_prime(n):\n",
    "    \"\"\" Check for input number primality \"\"\"\n",
    "\n",
    "    for i in range(3, int(n**0.5+1), 2):\n",
    "        if n % i == 0:\n",
    "            print(n, 'is not prime')\n",
    "            return False\n",
    "\n",
    "    print(n, 'is prime')\n",
    "    return True"
   ]
  },
  {
   "cell_type": "code",
   "execution_count": null,
   "metadata": {},
   "outputs": [],
   "source": [
    "import threading\n",
    "from queue import Queue\n",
    "\n",
    "class PrimeChecker(threading.Thread):\n",
    "    \"\"\" Thread class for primality checking \"\"\"\n",
    "\n",
    "    def __init__(self, queue):\n",
    "        self.queue = queue\n",
    "        self.flag = True\n",
    "        threading.Thread.__init__(self)\n",
    "\n",
    "    def run(self):\n",
    "        while self.flag:\n",
    "            try:\n",
    "                n = self.queue.get(timeout=1)\n",
    "                is_prime(n)\n",
    "            except Exception as e:\n",
    "                break"
   ]
  },
  {
   "cell_type": "code",
   "execution_count": null,
   "metadata": {},
   "outputs": [],
   "source": [
    "numbers = [1297337, 1116281, 104395303, 472882027, 533000389, 817504243, 982451653, 112272535095293, 115280095190773, 1099726899285419]*3"
   ]
  },
  {
   "cell_type": "code",
   "execution_count": null,
   "metadata": {},
   "outputs": [],
   "source": [
    "q = Queue(1000)\n",
    "\n",
    "for n in numbers:\n",
    "    q.put(n)\n",
    "\n",
    "threads = []\n",
    "for i in range(4):\n",
    "    t = PrimeChecker(q)\n",
    "    threads.append(t)\n",
    "    t.start()\n",
    "\n",
    "for t in threads:\n",
    "    t.join()"
   ]
  }
 ],
 "metadata": {
  "interpreter": {
   "hash": "f3a01a14db3e242023e95b654b0bf126c8cb85687c4157750d90a92693035087"
  },
  "kernelspec": {
   "display_name": "Python 3.8.5 64-bit ('base': conda)",
   "language": "python",
   "name": "python3"
  },
  "language_info": {
   "codemirror_mode": {
    "name": "ipython",
    "version": 3
   },
   "file_extension": ".py",
   "mimetype": "text/x-python",
   "name": "python",
   "nbconvert_exporter": "python",
   "pygments_lexer": "ipython3",
   "version": "3.9.2"
  },
  "orig_nbformat": 4
 },
 "nbformat": 4,
 "nbformat_minor": 2
}
